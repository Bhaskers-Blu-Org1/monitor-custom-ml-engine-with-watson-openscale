{
 "cells": [
  {
   "cell_type": "markdown",
   "metadata": {},
   "source": [
    "<img src=\"https://github.com/pmservice/ai-openscale-tutorials/raw/master/notebooks/images/banner.png\" align=\"left\" alt=\"banner\">"
   ]
  },
  {
   "cell_type": "markdown",
   "metadata": {},
   "source": [
    "# Working with Custom Machine Learning engine"
   ]
  },
  {
   "cell_type": "markdown",
   "metadata": {},
   "source": [
    "This notebook shows how to log the payload for the model deployed on custom model serving engine using Watson OpenScale python sdk."
   ]
  },
  {
   "cell_type": "markdown",
   "metadata": {},
   "source": [
    "Contents\n",
    "- [1. Setup](#setup)\n",
    "- [2. Binding machine learning engine](#binding)\n",
    "- [3. Subscriptions](#subscription)\n",
    "- [4. Scoring and payload logging](#scoring)\n",
    "- [5. Feedback logging](#feedback)\n",
    "- [6. Data Mart](#datamart)"
   ]
  },
  {
   "cell_type": "markdown",
   "metadata": {},
   "source": [
    "<a id=\"setup\"></a>\n",
    "## 1. Setup"
   ]
  },
  {
   "cell_type": "markdown",
   "metadata": {},
   "source": [
    "### 1.0 Sample custom machine learning engine"
   ]
  },
  {
   "cell_type": "markdown",
   "metadata": {},
   "source": [
    "The sample machine learning engine based on docker image and deployment instructions can be found [here](https://github.com/IBM/monitor-custom-ml-engine-with-watson-openscale)."
   ]
  },
  {
   "cell_type": "markdown",
   "metadata": {},
   "source": [
    "**NOTE:** If you use a different CUSTOM machine learning engine, it must follow this [API specification](https://aiopenscale-custom-deployement-spec.mybluemix.net/) to be supported."
   ]
  },
  {
   "cell_type": "markdown",
   "metadata": {},
   "source": [
    "### 1.1 Installation and authentication"
   ]
  },
  {
   "cell_type": "code",
   "execution_count": 33,
   "metadata": {},
   "outputs": [
    {
     "name": "stdout",
     "output_type": "stream",
     "text": [
      "Requirement not upgraded as not directly required: jmespath<1.0.0,>=0.7.1 in /opt/conda/envs/DSX-Python35/lib/python3.5/site-packages (from ibm-cos-sdk-core==2.*,>=2.0.0->ibm-cos-sdk->watson-machine-learning-client->ibm-ai-openscale)\r\n"
     ]
    }
   ],
   "source": [
    "!pip install ibm-ai-openscale==1.0.429 --no-cache | tail -n 1"
   ]
  },
  {
   "cell_type": "markdown",
   "metadata": {},
   "source": [
    "Import and initiate."
   ]
  },
  {
   "cell_type": "code",
   "execution_count": 34,
   "metadata": {},
   "outputs": [],
   "source": [
    "from ibm_ai_openscale import APIClient\n",
    "from ibm_ai_openscale.supporting_classes import PayloadRecord\n",
    "from ibm_ai_openscale.engines import *\n",
    "from ibm_ai_openscale.utils import *"
   ]
  },
  {
   "cell_type": "markdown",
   "metadata": {},
   "source": [
    "#### ACTION: Get Watson OpenScale `instance_guid` and `apikey`\n",
    "\n",
    "You will use an instance of [Watson OpenScale](https://console.bluemix.net/catalog/services/ai-openscale).\n",
    "\n",
    "How to install IBM Cloud (bluemix) console: [instruction](https://console.bluemix.net/docs/cli/reference/ibmcloud/download_cli.html#install_use)\n",
    "\n",
    "How to get api key using bluemix console:\n",
    "\n",
    "- This will contain an `API Key` used as `apikey` below\n",
    "\n",
    "```bash\n",
    "ibmcloud login --sso\n",
    "ibmcloud iam api-key-create 'my_key'\n",
    "```\n",
    "\n",
    "How to get your Watson OpenScale instance GUID:\n",
    "\n",
    "- If your resource group is different than `default`, switch to the resource group containing your Watson OpenScale instance\n",
    "```bash\n",
    "ibmcloud target -g <myResourceGroup>\n",
    "```\n",
    "- get details of the instance. This contains the GUID used as `instance_guid` below\n",
    "```bash\n",
    "ibmcloud resource service-instance <Watson-OpenScale-instance_name>\n",
    "```"
   ]
  },
  {
   "cell_type": "markdown",
   "metadata": {},
   "source": [
    "#### Let's define some constants required to set up data mart:\n",
    "\n",
    "- WATSON_OS_CREDENTIALS\n",
    "- POSTGRES_CREDENTIALS\n",
    "- SCHEMA_NAME"
   ]
  },
  {
   "cell_type": "code",
   "execution_count": 35,
   "metadata": {},
   "outputs": [],
   "source": [
    "WATSON_OS_CREDENTIALS = {\n",
    "  \"url\": \"https://api.aiopenscale.cloud.ibm.com\",\n",
    "  \"instance_guid\": \"****\",\n",
    "  \"apikey\": \"****\"\n",
    "}"
   ]
  },
  {
   "cell_type": "markdown",
   "metadata": {},
   "source": [
    "You will use an instgance of [Compose for PostgreSQL DB](https://console.bluemix.net/catalog/services/compose-for-postgresql)"
   ]
  },
  {
   "cell_type": "code",
   "execution_count": 36,
   "metadata": {},
   "outputs": [],
   "source": [
    "POSTGRES_CREDENTIALS = {\n",
    "  \"db_type\": \"postgresql\",\n",
    "  \"uri_cli_1\": \"****\",\n",
    "  \"maps\": [],\n",
    "  \"instance_administration_api\": {\n",
    "    \"instance_id\": \"****\",\n",
    "    \"root\": \"****\",\n",
    "    \"deployment_id\": \"****\"\n",
    "  },\n",
    "  \"name\": \"****\",\n",
    "  \"uri_cli\": \"****\",\n",
    "  \"uri_direct_1\": \"****\",\n",
    "  \"ca_certificate_base64\": \"****\",\n",
    "  \"deployment_id\": \"****\",\n",
    "  \"uri\": \"****\"\n",
    "}"
   ]
  },
  {
   "cell_type": "code",
   "execution_count": 37,
   "metadata": {},
   "outputs": [],
   "source": [
    "SCHEMA_NAME = 'data_mart_for_custom'"
   ]
  },
  {
   "cell_type": "markdown",
   "metadata": {},
   "source": [
    "Create schema for data mart."
   ]
  },
  {
   "cell_type": "code",
   "execution_count": 38,
   "metadata": {},
   "outputs": [],
   "source": [
    "create_postgres_schema(postgres_credentials=POSTGRES_CREDENTIALS, schema_name=SCHEMA_NAME)"
   ]
  },
  {
   "cell_type": "code",
   "execution_count": 39,
   "metadata": {},
   "outputs": [],
   "source": [
    "client = APIClient(WATSON_OS_CREDENTIALS)"
   ]
  },
  {
   "cell_type": "code",
   "execution_count": 40,
   "metadata": {},
   "outputs": [
    {
     "data": {
      "text/plain": [
       "'1.0.375'"
      ]
     },
     "execution_count": 40,
     "metadata": {},
     "output_type": "execute_result"
    }
   ],
   "source": [
    "client.version"
   ]
  },
  {
   "cell_type": "markdown",
   "metadata": {},
   "source": [
    "### 1.2 DataMart setup"
   ]
  },
  {
   "cell_type": "markdown",
   "metadata": {},
   "source": [
    ">NOTE: If you have already created a data_mart and need to delete it, uncomment and run the cell below:"
   ]
  },
  {
   "cell_type": "code",
   "execution_count": 45,
   "metadata": {},
   "outputs": [],
   "source": [
    "#client.data_mart.delete()"
   ]
  },
  {
   "cell_type": "code",
   "execution_count": 46,
   "metadata": {},
   "outputs": [],
   "source": [
    "client.data_mart.setup(db_credentials=POSTGRES_CREDENTIALS, schema=SCHEMA_NAME)"
   ]
  },
  {
   "cell_type": "code",
   "execution_count": 47,
   "metadata": {},
   "outputs": [],
   "source": [
    "data_mart_details = client.data_mart.get_details()"
   ]
  },
  {
   "cell_type": "markdown",
   "metadata": {},
   "source": [
    "<a id=\"binding\"></a>\n",
    "## 2. Bind machine learning engines"
   ]
  },
  {
   "cell_type": "markdown",
   "metadata": {},
   "source": [
    "### 2.1 Bind  `CUSTOM` machine learning engine\n",
    "**NOTE:** CUSTOM machine learning engine must follow this [API specification](https://aiopenscale-custom-deployement-spec.mybluemix.net/) to be supported.\n",
    "\n",
    "Credentials support following fields:\n",
    "- `url` - hostname and port (required) in the form of \"http://123.45.67.890:12345\"\n",
    "- `username` - part of BasicAuth (optional)\n",
    "- `password` - part of BasicAuth (optional)"
   ]
  },
  {
   "cell_type": "code",
   "execution_count": 114,
   "metadata": {},
   "outputs": [],
   "source": [
    "CUSTOM_ENGINE_CREDENTIALS = {\n",
    "    \"url\": \"***\"\n",
    "}\n",
    "# OR if you have BasicAuth use:\n",
    "'''\n",
    "CUSTOM_ENGINE_CREDENTIALS = {\n",
    "    \"url\": \"***\",\n",
    "    \"username\": \"***\",\n",
    "    \"password\": \"***\"\n",
    "}\n",
    "'''"
   ]
  },
  {
   "cell_type": "code",
   "execution_count": 115,
   "metadata": {},
   "outputs": [],
   "source": [
    "binding_uid = client.data_mart.bindings.add('My custom engine', CustomMachineLearningInstance(CUSTOM_ENGINE_CREDENTIALS))"
   ]
  },
  {
   "cell_type": "code",
   "execution_count": 116,
   "metadata": {},
   "outputs": [],
   "source": [
    "bindings_details = client.data_mart.bindings.get_details()"
   ]
  },
  {
   "cell_type": "code",
   "execution_count": 117,
   "metadata": {},
   "outputs": [
    {
     "data": {
      "text/html": [
       "<HTML>\n",
       "        <body>\n",
       "            <h3>Service bindings</h3>\n",
       "            <table style='border: 1px solid #dddddd; font-family: Courier'>\n",
       "                <th style='border: 1px solid #dddddd'>uid</th><th style='border: 1px solid #dddddd'>name</th><th style='border: 1px solid #dddddd'>service_type</th><th style='border: 1px solid #dddddd'>created</th>\n",
       "                <tr><td style='border: 1px solid #dddddd'>f1f35824-8d9b-4ad7-a14c-6498d5f1e0a3</td><td style='border: 1px solid #dddddd'>My custom engine</td><td style='border: 1px solid #dddddd'>custom_machine_learning</td><td style='border: 1px solid #dddddd'>2019-01-15T21:20:56.930Z</td></tr>\n",
       "            </table>\n",
       "        </body>\n",
       "        </HTML>"
      ],
      "text/plain": [
       "<IPython.core.display.HTML object>"
      ]
     },
     "metadata": {},
     "output_type": "display_data"
    }
   ],
   "source": [
    "client.data_mart.bindings.list()"
   ]
  },
  {
   "cell_type": "markdown",
   "metadata": {},
   "source": [
    "<a id=\"subsciption\"></a>\n",
    "## 3. Subscriptions"
   ]
  },
  {
   "cell_type": "markdown",
   "metadata": {},
   "source": [
    "### 3.1 Add subscriptions"
   ]
  },
  {
   "cell_type": "markdown",
   "metadata": {},
   "source": [
    "List available deployments."
   ]
  },
  {
   "cell_type": "markdown",
   "metadata": {},
   "source": [
    "#### client.data_mart.bindings.list_assets()"
   ]
  },
  {
   "cell_type": "code",
   "execution_count": 118,
   "metadata": {},
   "outputs": [],
   "source": [
    "subscription = client.data_mart.subscriptions.add(\n",
    "    CustomMachineLearningAsset(source_uid='action', \n",
    "                               binding_uid=binding_uid, \n",
    "                               prediction_column='predictedActionLabel'))"
   ]
  },
  {
   "cell_type": "markdown",
   "metadata": {},
   "source": [
    "#### Get subscriptions list"
   ]
  },
  {
   "cell_type": "code",
   "execution_count": 119,
   "metadata": {},
   "outputs": [],
   "source": [
    "subscriptions = client.data_mart.subscriptions.get_details()"
   ]
  },
  {
   "cell_type": "code",
   "execution_count": 122,
   "metadata": {},
   "outputs": [
    {
     "name": "stdout",
     "output_type": "stream",
     "text": [
      "['action']\n"
     ]
    }
   ],
   "source": [
    "subscriptions_uids = client.data_mart.subscriptions.get_uids()\n",
    "print(subscriptions_uids)"
   ]
  },
  {
   "cell_type": "markdown",
   "metadata": {},
   "source": [
    "#### List subscriptions"
   ]
  },
  {
   "cell_type": "code",
   "execution_count": 123,
   "metadata": {},
   "outputs": [
    {
     "data": {
      "text/html": [
       "<HTML>\n",
       "        <body>\n",
       "            <h3>Subscriptions</h3>\n",
       "            <table style='border: 1px solid #dddddd; font-family: Courier'>\n",
       "                <th style='border: 1px solid #dddddd'>uid</th><th style='border: 1px solid #dddddd'>name</th><th style='border: 1px solid #dddddd'>type</th><th style='border: 1px solid #dddddd'>binding_uid</th><th style='border: 1px solid #dddddd'>created</th>\n",
       "                <tr><td style='border: 1px solid #dddddd'>action</td><td style='border: 1px solid #dddddd'>area and action prediction</td><td style='border: 1px solid #dddddd'>model</td><td style='border: 1px solid #dddddd'>f1f35824-8d9b-4ad7-a14c-6498d5f1e0a3</td><td style='border: 1px solid #dddddd'>2019-01-15T21:21:14.723Z</td></tr>\n",
       "            </table>\n",
       "        </body>\n",
       "        </HTML>"
      ],
      "text/plain": [
       "<IPython.core.display.HTML object>"
      ]
     },
     "metadata": {},
     "output_type": "display_data"
    }
   ],
   "source": [
    "client.data_mart.subscriptions.list()"
   ]
  },
  {
   "cell_type": "markdown",
   "metadata": {},
   "source": [
    "<a id=\"scoring\"></a>\n",
    "## 4. Scoring and payload logging"
   ]
  },
  {
   "cell_type": "markdown",
   "metadata": {},
   "source": [
    "### 4.1 Score the action model"
   ]
  },
  {
   "cell_type": "code",
   "execution_count": 148,
   "metadata": {},
   "outputs": [
    {
     "name": "stdout",
     "output_type": "stream",
     "text": [
      "Response: {'fields': ['ID', 'Gender', 'Status', 'Children', 'Age', 'Customer_Status', 'Car_Owner', 'Customer_Service', 'Business_Area', 'Satisfaction', 'words', 'hash', 'area_features', 'area_label', 'rawPrediction_area', 'probability_area', 'prediction_area', 'predictedAreaLabel', 'gender_ix', 'customer_status_ix', 'status_ix', 'owner_ix', 'features', 'rawPrediction', 'probability', 'prediction', 'predictedActionLabel'], 'labels': ['NA', 'Free Upgrade', 'On-demand pickup location', 'Voucher', 'Premium features'], 'values': [[3785, 'Male', 'S', 1, 17, 'Inactive', 'Yes', 'The car should have been brought to us instead of us trying to find it in the lot.', 'Product: Information', 0, ['the', 'car', 'should', 'have', 'been', 'brought', 'to', 'us', 'instead', 'of', 'us', 'trying', 'to', 'find', 'it', 'in', 'the', 'lot.'], [262144.0, [9639.0, 21872.0, 74079.0, 86175.0, 91878.0, 99585.0, 103838.0, 175817.0, 205044.0, 218965.0, 222453.0, 227152.0, 227431.0, 229772.0, 253475.0], [1.0, 2.0, 1.0, 1.0, 1.0, 1.0, 2.0, 1.0, 2.0, 1.0, 1.0, 1.0, 1.0, 1.0, 1.0]], [262144.0, [9639.0, 21872.0, 74079.0, 86175.0, 91878.0, 99585.0, 103838.0, 175817.0, 205044.0, 218965.0, 222453.0, 227152.0, 227431.0, 229772.0, 253475.0], [1.7479568465696622, 5.81081927052141, 0.0, 1.5191152741408147, 3.5115454388310208, 3.5115454388310208, 1.2986891158031049, 0.0, 1.563032662020071, 0.0, 1.8375690052593492, 0.0, 3.5115454388310208, 1.1444218246994038, 1.9021075263969205]], 7.0, [45.0, 48.0, 5.0, 10.0, 7.0, 6.0, 8.0, 3.0], [0.3409090909090909, 0.36363636363636365, 0.03787878787878788, 0.07575757575757576, 0.05303030303030303, 0.045454545454545456, 0.06060606060606061, 0.022727272727272728], 1.0, 'Product: Functioning', 0.0, 1.0, 1.0, 1.0, [0.0, 1.0, 1.0, 1.0, 1.0, 17.0, 0.0, 1.0], [0.0, 1.0, 6.0, 0.0, 0.0], [0.0, 0.14285714285714285, 0.8571428571428571, 0.0, 0.0], 2.0, 'On-demand pickup location']]}\n"
     ]
    }
   ],
   "source": [
    "import requests\n",
    "import time\n",
    "\n",
    "\n",
    "request_data = {'fields': ['ID',\n",
    "                              'Gender',\n",
    "                              'Status',\n",
    "                              'Children',\n",
    "                              'Age',\n",
    "                              'Customer_Status',\n",
    "                              'Car_Owner',\n",
    "                              'Customer_Service',\n",
    "                              'Business_Area',\n",
    "                              'Satisfaction'],\n",
    "                             'values': [[3785,\n",
    "                               'Male',\n",
    "                               'S',\n",
    "                               1,\n",
    "                               17,\n",
    "                               'Inactive',\n",
    "                               'Yes',\n",
    "                               'The car should have been brought to us instead of us trying to find it in the lot.',\n",
    "                               'Product: Information',\n",
    "                               0]]}\n",
    "\n",
    "header = {'Content-Type': 'application/json'}\n",
    "scoring_url = subscription.get_details()['entity']['deployments'][0]['scoring_endpoint']['url']\n",
    "\n",
    "start_time = time.time()\n",
    "response = requests.post(scoring_url, json=request_data, headers=header)\n",
    "response_time = int((time.time() - start_time)*1000)\n",
    "\n",
    "response_data = response.json()\n",
    "print('Response: ' + str(response_data))"
   ]
  },
  {
   "cell_type": "markdown",
   "metadata": {},
   "source": [
    "### 4.2 Store the request and response in payload logging table"
   ]
  },
  {
   "cell_type": "markdown",
   "metadata": {},
   "source": [
    "#### Using Python SDK"
   ]
  },
  {
   "cell_type": "markdown",
   "metadata": {},
   "source": [
    "**Hint:** You can embed payload logging code into your custom deployment so it is logged automatically each time you score the model."
   ]
  },
  {
   "cell_type": "code",
   "execution_count": 125,
   "metadata": {},
   "outputs": [],
   "source": [
    "records_list = [PayloadRecord(request=request_data, response=response_data, response_time=response_time), \n",
    "                PayloadRecord(request=request_data, response=response_data, response_time=response_time)]\n",
    "\n",
    "for i in range(1, 10):\n",
    "    records_list.append(PayloadRecord(request=request_data, response=response_data, response_time=response_time))\n",
    "\n",
    "subscription.payload_logging.store(records=records_list)"
   ]
  },
  {
   "cell_type": "markdown",
   "metadata": {},
   "source": [
    "#### Using REST API"
   ]
  },
  {
   "cell_type": "markdown",
   "metadata": {},
   "source": [
    "Get the token first."
   ]
  },
  {
   "cell_type": "code",
   "execution_count": 126,
   "metadata": {},
   "outputs": [],
   "source": [
    "token_endpoint = \"https://iam.bluemix.net/identity/token\"\n",
    "headers = {\n",
    "    \"Content-Type\": \"application/x-www-form-urlencoded\",\n",
    "    \"Accept\": \"application/json\"\n",
    "}\n",
    "\n",
    "data = {\n",
    "    \"grant_type\":\"urn:ibm:params:oauth:grant-type:apikey\",\n",
    "    \"apikey\":WATSON_OS_CREDENTIALS[\"apikey\"]\n",
    "}\n",
    "\n",
    "req = requests.post(token_endpoint, data=data, headers=headers)\n",
    "token = req.json()['access_token']"
   ]
  },
  {
   "cell_type": "markdown",
   "metadata": {},
   "source": [
    "Store the payload."
   ]
  },
  {
   "cell_type": "code",
   "execution_count": 127,
   "metadata": {},
   "outputs": [
    {
     "name": "stdout",
     "output_type": "stream",
     "text": [
      "Request OK: True\n"
     ]
    }
   ],
   "source": [
    "import requests, uuid\n",
    "\n",
    "PAYLOAD_STORING_HREF_PATTERN = '{}/v1/data_marts/{}/scoring_payloads'\n",
    "endpoint = PAYLOAD_STORING_HREF_PATTERN.format(WATSON_OS_CREDENTIALS['url'], WATSON_OS_CREDENTIALS['data_mart_id'])\n",
    "\n",
    "payload = [{\n",
    "    'binding_id': binding_uid, \n",
    "    'deployment_id': subscription.get_details()['entity']['deployments'][0]['deployment_id'], \n",
    "    'subscription_id': subscription.uid, \n",
    "    'scoring_id': str(uuid.uuid4()), \n",
    "    'response': response_data,\n",
    "    'request': request_data\n",
    "}]\n",
    "\n",
    "\n",
    "headers = {\"Authorization\": \"Bearer \" + token}\n",
    "      \n",
    "req_response = requests.post(endpoint, json=payload, headers = headers)\n",
    "\n",
    "print(\"Request OK: \" + str(req_response.ok))"
   ]
  },
  {
   "cell_type": "markdown",
   "metadata": {},
   "source": [
    "<a id=\"feedback\"></a>\n",
    "## 5. Feedback logging & quality (accuracy) monitoring"
   ]
  },
  {
   "cell_type": "markdown",
   "metadata": {},
   "source": [
    "### Enable quality monitoring"
   ]
  },
  {
   "cell_type": "markdown",
   "metadata": {},
   "source": [
    "You need to provide the monitoring `threshold` and `min_records` (minimal number of feedback records)."
   ]
  },
  {
   "cell_type": "code",
   "execution_count": 128,
   "metadata": {},
   "outputs": [],
   "source": [
    "subscription.quality_monitoring.enable(threshold=0.7, min_records=10)"
   ]
  },
  {
   "cell_type": "markdown",
   "metadata": {},
   "source": [
    "### Feedback records logging"
   ]
  },
  {
   "cell_type": "markdown",
   "metadata": {},
   "source": [
    "Feedback records are used to evaluate your model. The predicted values are compared to real values (feedback records)."
   ]
  },
  {
   "cell_type": "markdown",
   "metadata": {},
   "source": [
    "You can check the schema of feedback table using below method."
   ]
  },
  {
   "cell_type": "code",
   "execution_count": 129,
   "metadata": {},
   "outputs": [
    {
     "data": {
      "text/html": [
       "<HTML>\n",
       "        <body>\n",
       "            <h3>Schema of Feedback_action</h3>\n",
       "            <table style='border: 1px solid #dddddd; font-family: Courier'>\n",
       "                <th style='border: 1px solid #dddddd'>name</th><th style='border: 1px solid #dddddd'>type</th><th style='border: 1px solid #dddddd'>nullable</th>\n",
       "                <tr><td style='border: 1px solid #dddddd'>ID</td><td style='border: 1px solid #dddddd'>integer</td><td style='border: 1px solid #dddddd'>True</td></tr><tr><td style='border: 1px solid #dddddd'>Gender</td><td style='border: 1px solid #dddddd'>string</td><td style='border: 1px solid #dddddd'>True</td></tr><tr><td style='border: 1px solid #dddddd'>Status</td><td style='border: 1px solid #dddddd'>string</td><td style='border: 1px solid #dddddd'>True</td></tr><tr><td style='border: 1px solid #dddddd'>Children</td><td style='border: 1px solid #dddddd'>integer</td><td style='border: 1px solid #dddddd'>True</td></tr><tr><td style='border: 1px solid #dddddd'>Age</td><td style='border: 1px solid #dddddd'>integer</td><td style='border: 1px solid #dddddd'>True</td></tr><tr><td style='border: 1px solid #dddddd'>Customer_Status</td><td style='border: 1px solid #dddddd'>string</td><td style='border: 1px solid #dddddd'>True</td></tr><tr><td style='border: 1px solid #dddddd'>Car_Owner</td><td style='border: 1px solid #dddddd'>string</td><td style='border: 1px solid #dddddd'>True</td></tr><tr><td style='border: 1px solid #dddddd'>Customer_Service</td><td style='border: 1px solid #dddddd'>string</td><td style='border: 1px solid #dddddd'>True</td></tr><tr><td style='border: 1px solid #dddddd'>Business_Area</td><td style='border: 1px solid #dddddd'>string</td><td style='border: 1px solid #dddddd'>True</td></tr><tr><td style='border: 1px solid #dddddd'>Satisfaction</td><td style='border: 1px solid #dddddd'>integer</td><td style='border: 1px solid #dddddd'>True</td></tr><tr><td style='border: 1px solid #dddddd'>label</td><td style='border: 1px solid #dddddd'>string</td><td style='border: 1px solid #dddddd'>True</td></tr><tr><td style='border: 1px solid #dddddd'>_training</td><td style='border: 1px solid #dddddd'>timestamp</td><td style='border: 1px solid #dddddd'>False</td></tr>\n",
       "            </table>\n",
       "        </body>\n",
       "        </HTML>"
      ],
      "text/plain": [
       "<IPython.core.display.HTML object>"
      ]
     },
     "metadata": {},
     "output_type": "display_data"
    }
   ],
   "source": [
    "subscription.feedback_logging.print_table_schema()"
   ]
  },
  {
   "cell_type": "markdown",
   "metadata": {},
   "source": [
    "The feedback records can be send to feedback table using below code."
   ]
  },
  {
   "cell_type": "code",
   "execution_count": 130,
   "metadata": {},
   "outputs": [],
   "source": [
    "fields = ['ID', 'Gender', 'Status','Children', 'Age', 'Customer_Status', 'Car_Owner', 'Customer_Service', 'Business_Area', 'Satisfaction', 'label']\n",
    "\n",
    "records = [\n",
    "    [3785, 'Male', 'S', 1, 17,'Inactive', 'Yes', 'The car should have been brought to us instead of us trying to find it in the lot.', 'Product: Information', 0, 'On-demand pickup location'],\n",
    "    [3785, 'Male', 'S', 1, 17,'Inactive', 'Yes', 'The car should have been brought to us instead of us trying to find it in the lot.', 'Product: Information', 0, 'On-demand pickup location']]\n",
    "\n",
    "for i in range(1,10):\n",
    "    records.append([3785, 'Male', 'S', 1, 17,'Inactive', 'Yes', 'The car should have been brought to us instead of us trying to find it in the lot.', 'Product: Information', 0, 'On-demand pickup location'])\n",
    "\n",
    "subscription.feedback_logging.store(feedback_data=records, fields=fields)"
   ]
  },
  {
   "cell_type": "markdown",
   "metadata": {},
   "source": [
    "### Run quality monitoring on demand"
   ]
  },
  {
   "cell_type": "markdown",
   "metadata": {},
   "source": [
    "By default, quality monitoring is run on hourly schedule. You can also trigger it on demand using below code."
   ]
  },
  {
   "cell_type": "code",
   "execution_count": 131,
   "metadata": {},
   "outputs": [],
   "source": [
    "run_details = subscription.quality_monitoring.run()"
   ]
  },
  {
   "cell_type": "markdown",
   "metadata": {},
   "source": [
    "Since the monitoring runs in the background you can use below method to check the status of the job."
   ]
  },
  {
   "cell_type": "code",
   "execution_count": 132,
   "metadata": {},
   "outputs": [
    {
     "name": "stdout",
     "output_type": "stream",
     "text": [
      "Run status: running\n",
      "Run status: completed\n"
     ]
    }
   ],
   "source": [
    "status = run_details['status']\n",
    "id = run_details['id']\n",
    "\n",
    "print(\"Run status: {}\".format(status))\n",
    "\n",
    "start_time = time.time()\n",
    "elapsed_time = 0\n",
    "\n",
    "while status != 'completed' and elapsed_time < 60:\n",
    "    time.sleep(10)\n",
    "    run_details = subscription.quality_monitoring.get_run_details(run_uid=id)\n",
    "    status = run_details['status']\n",
    "    elapsed_time = time.time() - start_time\n",
    "    print(\"Run status: {}\".format(status))"
   ]
  },
  {
   "cell_type": "markdown",
   "metadata": {},
   "source": [
    "### Show the quality metrics"
   ]
  },
  {
   "cell_type": "code",
   "execution_count": 134,
   "metadata": {},
   "outputs": [
    {
     "data": {
      "text/html": [
       "<HTML>\n",
       "        <body>\n",
       "            <h3>QualityMetrics (binding_id=f1f35824-8d9b-4ad7-a14c-6498d5f1e0a3, subscription_id=action)</h3>\n",
       "            <table style='border: 1px solid #dddddd; font-family: Courier'>\n",
       "                <th style='border: 1px solid #dddddd'>ts</th><th style='border: 1px solid #dddddd'>quality</th><th style='border: 1px solid #dddddd'>quality_threshold</th><th style='border: 1px solid #dddddd'>binding_id</th><th style='border: 1px solid #dddddd'>subscription_id</th><th style='border: 1px solid #dddddd'>deployment_id</th><th style='border: 1px solid #dddddd'>process</th><th style='border: 1px solid #dddddd'>asset_revision</th>\n",
       "                <tr><td style='border: 1px solid #dddddd'>2019-01-15 21:22:56.600000+00:00</td><td style='border: 1px solid #dddddd'>1.0</td><td style='border: 1px solid #dddddd'>0.7</td><td style='border: 1px solid #dddddd'>f1f35824-8d9b-4ad7-a14c-6498d5f1e0a3</td><td style='border: 1px solid #dddddd'>action</td><td style='border: 1px solid #dddddd'>action</td><td style='border: 1px solid #dddddd'>Accuracy_evaluation_ffcbe77d-c557-47d9-9b02-ebd76550d6c7</td><td style='border: 1px solid #dddddd'></td></tr>\n",
       "            </table>\n",
       "        </body>\n",
       "        </HTML>"
      ],
      "text/plain": [
       "<IPython.core.display.HTML object>"
      ]
     },
     "metadata": {},
     "output_type": "display_data"
    }
   ],
   "source": [
    "subscription.quality_monitoring.show_table()"
   ]
  },
  {
   "cell_type": "markdown",
   "metadata": {},
   "source": [
    "Get all calculated metrics."
   ]
  },
  {
   "cell_type": "code",
   "execution_count": 135,
   "metadata": {},
   "outputs": [
    {
     "data": {
      "text/plain": [
       "{'end': '2019-01-15T21:29:33.618903Z',\n",
       " 'metrics': [{'process': 'Accuracy_evaluation_ffcbe77d-c557-47d9-9b02-ebd76550d6c7',\n",
       "   'timestamp': '2019-01-15T21:22:56.600Z',\n",
       "   'value': {'metrics': [{'name': 'weightedTruePositiveRate', 'value': 1.0},\n",
       "     {'name': 'accuracy', 'value': 1.0},\n",
       "     {'name': 'weightedFMeasure', 'value': 1.0},\n",
       "     {'name': 'weightedRecall', 'value': 1.0},\n",
       "     {'name': 'weightedFalsePositiveRate', 'value': None},\n",
       "     {'name': 'weightedPrecision', 'value': 1.0}],\n",
       "    'quality': 1.0,\n",
       "    'threshold': 0.7}}],\n",
       " 'start': '2019-01-15T20:21:14.723Z'}"
      ]
     },
     "execution_count": 135,
     "metadata": {},
     "output_type": "execute_result"
    }
   ],
   "source": [
    "subscription.quality_monitoring.get_metrics(deployment_uid='action')"
   ]
  },
  {
   "cell_type": "markdown",
   "metadata": {},
   "source": [
    "<a id=\"datamart\"></a>\n",
    "## 6. Get the logged data"
   ]
  },
  {
   "cell_type": "markdown",
   "metadata": {},
   "source": [
    "### 6.1 Payload logging"
   ]
  },
  {
   "cell_type": "markdown",
   "metadata": {},
   "source": [
    "#### Print schema of payload_logging table"
   ]
  },
  {
   "cell_type": "code",
   "execution_count": 136,
   "metadata": {},
   "outputs": [
    {
     "data": {
      "text/html": [
       "<HTML>\n",
       "        <body>\n",
       "            <h3>Schema of Payload_action</h3>\n",
       "            <table style='border: 1px solid #dddddd; font-family: Courier'>\n",
       "                <th style='border: 1px solid #dddddd'>name</th><th style='border: 1px solid #dddddd'>type</th><th style='border: 1px solid #dddddd'>nullable</th>\n",
       "                <tr><td style='border: 1px solid #dddddd'>scoring_id</td><td style='border: 1px solid #dddddd'>string</td><td style='border: 1px solid #dddddd'>False</td></tr><tr><td style='border: 1px solid #dddddd'>scoring_timestamp</td><td style='border: 1px solid #dddddd'>timestamp</td><td style='border: 1px solid #dddddd'>False</td></tr><tr><td style='border: 1px solid #dddddd'>deployment_id</td><td style='border: 1px solid #dddddd'>string</td><td style='border: 1px solid #dddddd'>False</td></tr><tr><td style='border: 1px solid #dddddd'>asset_revision</td><td style='border: 1px solid #dddddd'>string</td><td style='border: 1px solid #dddddd'>True</td></tr><tr><td style='border: 1px solid #dddddd'>ID</td><td style='border: 1px solid #dddddd'>integer</td><td style='border: 1px solid #dddddd'>True</td></tr><tr><td style='border: 1px solid #dddddd'>Gender</td><td style='border: 1px solid #dddddd'>string</td><td style='border: 1px solid #dddddd'>True</td></tr><tr><td style='border: 1px solid #dddddd'>Status</td><td style='border: 1px solid #dddddd'>string</td><td style='border: 1px solid #dddddd'>True</td></tr><tr><td style='border: 1px solid #dddddd'>Children</td><td style='border: 1px solid #dddddd'>integer</td><td style='border: 1px solid #dddddd'>True</td></tr><tr><td style='border: 1px solid #dddddd'>Age</td><td style='border: 1px solid #dddddd'>integer</td><td style='border: 1px solid #dddddd'>True</td></tr><tr><td style='border: 1px solid #dddddd'>Customer_Status</td><td style='border: 1px solid #dddddd'>string</td><td style='border: 1px solid #dddddd'>True</td></tr><tr><td style='border: 1px solid #dddddd'>Car_Owner</td><td style='border: 1px solid #dddddd'>string</td><td style='border: 1px solid #dddddd'>True</td></tr><tr><td style='border: 1px solid #dddddd'>Customer_Service</td><td style='border: 1px solid #dddddd'>string</td><td style='border: 1px solid #dddddd'>True</td></tr><tr><td style='border: 1px solid #dddddd'>Business_Area</td><td style='border: 1px solid #dddddd'>string</td><td style='border: 1px solid #dddddd'>True</td></tr><tr><td style='border: 1px solid #dddddd'>Satisfaction</td><td style='border: 1px solid #dddddd'>integer</td><td style='border: 1px solid #dddddd'>True</td></tr><tr><td style='border: 1px solid #dddddd'>words</td><td style='border: 1px solid #dddddd'>{'elementType': 'string', 'containsNull': True, 'type': 'array'}</td><td style='border: 1px solid #dddddd'>True</td></tr><tr><td style='border: 1px solid #dddddd'>hash</td><td style='border: 1px solid #dddddd'>{'elementType': 'string', 'containsNull': True, 'type': 'array'}</td><td style='border: 1px solid #dddddd'>True</td></tr><tr><td style='border: 1px solid #dddddd'>area_features</td><td style='border: 1px solid #dddddd'>{'elementType': 'string', 'containsNull': True, 'type': 'array'}</td><td style='border: 1px solid #dddddd'>True</td></tr><tr><td style='border: 1px solid #dddddd'>area_label</td><td style='border: 1px solid #dddddd'>double</td><td style='border: 1px solid #dddddd'>True</td></tr><tr><td style='border: 1px solid #dddddd'>rawPrediction_area</td><td style='border: 1px solid #dddddd'>{'elementType': 'double', 'containsNull': True, 'type': 'array'}</td><td style='border: 1px solid #dddddd'>True</td></tr><tr><td style='border: 1px solid #dddddd'>probability_area</td><td style='border: 1px solid #dddddd'>{'elementType': 'double', 'containsNull': True, 'type': 'array'}</td><td style='border: 1px solid #dddddd'>True</td></tr><tr><td style='border: 1px solid #dddddd'>prediction_area</td><td style='border: 1px solid #dddddd'>double</td><td style='border: 1px solid #dddddd'>True</td></tr><tr><td style='border: 1px solid #dddddd'>predictedAreaLabel</td><td style='border: 1px solid #dddddd'>string</td><td style='border: 1px solid #dddddd'>True</td></tr><tr><td style='border: 1px solid #dddddd'>gender_ix</td><td style='border: 1px solid #dddddd'>double</td><td style='border: 1px solid #dddddd'>True</td></tr><tr><td style='border: 1px solid #dddddd'>customer_status_ix</td><td style='border: 1px solid #dddddd'>double</td><td style='border: 1px solid #dddddd'>True</td></tr><tr><td style='border: 1px solid #dddddd'>status_ix</td><td style='border: 1px solid #dddddd'>double</td><td style='border: 1px solid #dddddd'>True</td></tr><tr><td style='border: 1px solid #dddddd'>owner_ix</td><td style='border: 1px solid #dddddd'>double</td><td style='border: 1px solid #dddddd'>True</td></tr><tr><td style='border: 1px solid #dddddd'>features</td><td style='border: 1px solid #dddddd'>{'elementType': 'double', 'containsNull': True, 'type': 'array'}</td><td style='border: 1px solid #dddddd'>True</td></tr><tr><td style='border: 1px solid #dddddd'>rawPrediction</td><td style='border: 1px solid #dddddd'>{'elementType': 'double', 'containsNull': True, 'type': 'array'}</td><td style='border: 1px solid #dddddd'>True</td></tr><tr><td style='border: 1px solid #dddddd'>probability</td><td style='border: 1px solid #dddddd'>{'elementType': 'double', 'containsNull': True, 'type': 'array'}</td><td style='border: 1px solid #dddddd'>True</td></tr><tr><td style='border: 1px solid #dddddd'>prediction</td><td style='border: 1px solid #dddddd'>double</td><td style='border: 1px solid #dddddd'>True</td></tr><tr><td style='border: 1px solid #dddddd'>predictedActionLabel</td><td style='border: 1px solid #dddddd'>string</td><td style='border: 1px solid #dddddd'>True</td></tr>\n",
       "            </table>\n",
       "        </body>\n",
       "        </HTML>"
      ],
      "text/plain": [
       "<IPython.core.display.HTML object>"
      ]
     },
     "metadata": {},
     "output_type": "display_data"
    }
   ],
   "source": [
    "subscription.payload_logging.print_table_schema()"
   ]
  },
  {
   "cell_type": "markdown",
   "metadata": {},
   "source": [
    "#### Show (preview) the table"
   ]
  },
  {
   "cell_type": "code",
   "execution_count": 137,
   "metadata": {},
   "outputs": [
    {
     "name": "stdout",
     "output_type": "stream",
     "text": [
      "           ID  Children   Age  Satisfaction  area_label  prediction_area  \\\n",
      "count    36.0      36.0  36.0          36.0        36.0             36.0   \n",
      "mean   3785.0       1.0  17.0           0.0         7.0              1.0   \n",
      "std       0.0       0.0   0.0           0.0         0.0              0.0   \n",
      "min    3785.0       1.0  17.0           0.0         7.0              1.0   \n",
      "25%    3785.0       1.0  17.0           0.0         7.0              1.0   \n",
      "50%    3785.0       1.0  17.0           0.0         7.0              1.0   \n",
      "75%    3785.0       1.0  17.0           0.0         7.0              1.0   \n",
      "max    3785.0       1.0  17.0           0.0         7.0              1.0   \n",
      "\n",
      "       gender_ix  customer_status_ix  status_ix  owner_ix  prediction  \n",
      "count       36.0                36.0       36.0      36.0        36.0  \n",
      "mean         0.0                 1.0        1.0       1.0         2.0  \n",
      "std          0.0                 0.0        0.0       0.0         0.0  \n",
      "min          0.0                 1.0        1.0       1.0         2.0  \n",
      "25%          0.0                 1.0        1.0       1.0         2.0  \n",
      "50%          0.0                 1.0        1.0       1.0         2.0  \n",
      "75%          0.0                 1.0        1.0       1.0         2.0  \n",
      "max          0.0                 1.0        1.0       1.0         2.0  \n"
     ]
    }
   ],
   "source": [
    "subscription.payload_logging.describe_table()"
   ]
  },
  {
   "cell_type": "markdown",
   "metadata": {},
   "source": [
    "#### Return the table content as pandas dataframe"
   ]
  },
  {
   "cell_type": "code",
   "execution_count": 138,
   "metadata": {},
   "outputs": [],
   "source": [
    "pandas_df = subscription.payload_logging.get_table_content(format='pandas')"
   ]
  },
  {
   "cell_type": "markdown",
   "metadata": {},
   "source": [
    "### 6.2 Feddback logging"
   ]
  },
  {
   "cell_type": "markdown",
   "metadata": {},
   "source": [
    "Check the schema of table."
   ]
  },
  {
   "cell_type": "code",
   "execution_count": 139,
   "metadata": {},
   "outputs": [
    {
     "data": {
      "text/html": [
       "<HTML>\n",
       "        <body>\n",
       "            <h3>Schema of Feedback_action</h3>\n",
       "            <table style='border: 1px solid #dddddd; font-family: Courier'>\n",
       "                <th style='border: 1px solid #dddddd'>name</th><th style='border: 1px solid #dddddd'>type</th><th style='border: 1px solid #dddddd'>nullable</th>\n",
       "                <tr><td style='border: 1px solid #dddddd'>ID</td><td style='border: 1px solid #dddddd'>integer</td><td style='border: 1px solid #dddddd'>True</td></tr><tr><td style='border: 1px solid #dddddd'>Gender</td><td style='border: 1px solid #dddddd'>string</td><td style='border: 1px solid #dddddd'>True</td></tr><tr><td style='border: 1px solid #dddddd'>Status</td><td style='border: 1px solid #dddddd'>string</td><td style='border: 1px solid #dddddd'>True</td></tr><tr><td style='border: 1px solid #dddddd'>Children</td><td style='border: 1px solid #dddddd'>integer</td><td style='border: 1px solid #dddddd'>True</td></tr><tr><td style='border: 1px solid #dddddd'>Age</td><td style='border: 1px solid #dddddd'>integer</td><td style='border: 1px solid #dddddd'>True</td></tr><tr><td style='border: 1px solid #dddddd'>Customer_Status</td><td style='border: 1px solid #dddddd'>string</td><td style='border: 1px solid #dddddd'>True</td></tr><tr><td style='border: 1px solid #dddddd'>Car_Owner</td><td style='border: 1px solid #dddddd'>string</td><td style='border: 1px solid #dddddd'>True</td></tr><tr><td style='border: 1px solid #dddddd'>Customer_Service</td><td style='border: 1px solid #dddddd'>string</td><td style='border: 1px solid #dddddd'>True</td></tr><tr><td style='border: 1px solid #dddddd'>Business_Area</td><td style='border: 1px solid #dddddd'>string</td><td style='border: 1px solid #dddddd'>True</td></tr><tr><td style='border: 1px solid #dddddd'>Satisfaction</td><td style='border: 1px solid #dddddd'>integer</td><td style='border: 1px solid #dddddd'>True</td></tr><tr><td style='border: 1px solid #dddddd'>label</td><td style='border: 1px solid #dddddd'>string</td><td style='border: 1px solid #dddddd'>True</td></tr><tr><td style='border: 1px solid #dddddd'>_training</td><td style='border: 1px solid #dddddd'>timestamp</td><td style='border: 1px solid #dddddd'>False</td></tr>\n",
       "            </table>\n",
       "        </body>\n",
       "        </HTML>"
      ],
      "text/plain": [
       "<IPython.core.display.HTML object>"
      ]
     },
     "metadata": {},
     "output_type": "display_data"
    }
   ],
   "source": [
    "subscription.feedback_logging.print_table_schema()"
   ]
  },
  {
   "cell_type": "markdown",
   "metadata": {},
   "source": [
    "Preview table content."
   ]
  },
  {
   "cell_type": "code",
   "execution_count": 140,
   "metadata": {},
   "outputs": [
    {
     "data": {
      "text/html": [
       "<HTML>\n",
       "        <body>\n",
       "            <h3>Feedback_action (binding_id=f1f35824-8d9b-4ad7-a14c-6498d5f1e0a3, subscription_id=action)</h3>\n",
       "            <table style='border: 1px solid #dddddd; font-family: Courier'>\n",
       "                <th style='border: 1px solid #dddddd'>ID</th><th style='border: 1px solid #dddddd'>Gender</th><th style='border: 1px solid #dddddd'>Status</th><th style='border: 1px solid #dddddd'>Children</th><th style='border: 1px solid #dddddd'>Age</th><th style='border: 1px solid #dddddd'>Customer_Status</th><th style='border: 1px solid #dddddd'>Car_Owner</th><th style='border: 1px solid #dddddd'>Customer_Service</th><th style='border: 1px solid #dddddd'>Business_Area</th><th style='border: 1px solid #dddddd'>Satisfaction</th><th style='border: 1px solid #dddddd'>label</th><th style='border: 1px solid #dddddd'>_training</th>\n",
       "                <tr><td style='border: 1px solid #dddddd'>3785</td><td style='border: 1px solid #dddddd'>Male</td><td style='border: 1px solid #dddddd'>S</td><td style='border: 1px solid #dddddd'>1</td><td style='border: 1px solid #dddddd'>17</td><td style='border: 1px solid #dddddd'>Inactive</td><td style='border: 1px solid #dddddd'>Yes</td><td style='border: 1px solid #dddddd'>The car should have been brought to us instead of us trying to find it in the lot.</td><td style='border: 1px solid #dddddd'>Product: Information</td><td style='border: 1px solid #dddddd'>0</td><td style='border: 1px solid #dddddd'>On-demand pickup location</td><td style='border: 1px solid #dddddd'>2019-01-15 19:30:55.199000+00:00</td></tr><tr><td style='border: 1px solid #dddddd'>3785</td><td style='border: 1px solid #dddddd'>Male</td><td style='border: 1px solid #dddddd'>S</td><td style='border: 1px solid #dddddd'>1</td><td style='border: 1px solid #dddddd'>17</td><td style='border: 1px solid #dddddd'>Inactive</td><td style='border: 1px solid #dddddd'>Yes</td><td style='border: 1px solid #dddddd'>The car should have been brought to us instead of us trying to find it in the lot.</td><td style='border: 1px solid #dddddd'>Product: Information</td><td style='border: 1px solid #dddddd'>0</td><td style='border: 1px solid #dddddd'>On-demand pickup location</td><td style='border: 1px solid #dddddd'>2019-01-15 19:30:55.199000+00:00</td></tr><tr><td style='border: 1px solid #dddddd'>3785</td><td style='border: 1px solid #dddddd'>Male</td><td style='border: 1px solid #dddddd'>S</td><td style='border: 1px solid #dddddd'>1</td><td style='border: 1px solid #dddddd'>17</td><td style='border: 1px solid #dddddd'>Inactive</td><td style='border: 1px solid #dddddd'>Yes</td><td style='border: 1px solid #dddddd'>The car should have been brought to us instead of us trying to find it in the lot.</td><td style='border: 1px solid #dddddd'>Product: Information</td><td style='border: 1px solid #dddddd'>0</td><td style='border: 1px solid #dddddd'>On-demand pickup location</td><td style='border: 1px solid #dddddd'>2019-01-15 19:30:55.199000+00:00</td></tr><tr><td style='border: 1px solid #dddddd'>3785</td><td style='border: 1px solid #dddddd'>Male</td><td style='border: 1px solid #dddddd'>S</td><td style='border: 1px solid #dddddd'>1</td><td style='border: 1px solid #dddddd'>17</td><td style='border: 1px solid #dddddd'>Inactive</td><td style='border: 1px solid #dddddd'>Yes</td><td style='border: 1px solid #dddddd'>The car should have been brought to us instead of us trying to find it in the lot.</td><td style='border: 1px solid #dddddd'>Product: Information</td><td style='border: 1px solid #dddddd'>0</td><td style='border: 1px solid #dddddd'>On-demand pickup location</td><td style='border: 1px solid #dddddd'>2019-01-15 19:30:55.199000+00:00</td></tr><tr><td style='border: 1px solid #dddddd'>3785</td><td style='border: 1px solid #dddddd'>Male</td><td style='border: 1px solid #dddddd'>S</td><td style='border: 1px solid #dddddd'>1</td><td style='border: 1px solid #dddddd'>17</td><td style='border: 1px solid #dddddd'>Inactive</td><td style='border: 1px solid #dddddd'>Yes</td><td style='border: 1px solid #dddddd'>The car should have been brought to us instead of us trying to find it in the lot.</td><td style='border: 1px solid #dddddd'>Product: Information</td><td style='border: 1px solid #dddddd'>0</td><td style='border: 1px solid #dddddd'>On-demand pickup location</td><td style='border: 1px solid #dddddd'>2019-01-15 19:30:55.199000+00:00</td></tr><tr><td style='border: 1px solid #dddddd'>3785</td><td style='border: 1px solid #dddddd'>Male</td><td style='border: 1px solid #dddddd'>S</td><td style='border: 1px solid #dddddd'>1</td><td style='border: 1px solid #dddddd'>17</td><td style='border: 1px solid #dddddd'>Inactive</td><td style='border: 1px solid #dddddd'>Yes</td><td style='border: 1px solid #dddddd'>The car should have been brought to us instead of us trying to find it in the lot.</td><td style='border: 1px solid #dddddd'>Product: Information</td><td style='border: 1px solid #dddddd'>0</td><td style='border: 1px solid #dddddd'>On-demand pickup location</td><td style='border: 1px solid #dddddd'>2019-01-15 19:30:55.199000+00:00</td></tr><tr><td style='border: 1px solid #dddddd'>3785</td><td style='border: 1px solid #dddddd'>Male</td><td style='border: 1px solid #dddddd'>S</td><td style='border: 1px solid #dddddd'>1</td><td style='border: 1px solid #dddddd'>17</td><td style='border: 1px solid #dddddd'>Inactive</td><td style='border: 1px solid #dddddd'>Yes</td><td style='border: 1px solid #dddddd'>The car should have been brought to us instead of us trying to find it in the lot.</td><td style='border: 1px solid #dddddd'>Product: Information</td><td style='border: 1px solid #dddddd'>0</td><td style='border: 1px solid #dddddd'>On-demand pickup location</td><td style='border: 1px solid #dddddd'>2019-01-15 19:30:55.199000+00:00</td></tr><tr><td style='border: 1px solid #dddddd'>3785</td><td style='border: 1px solid #dddddd'>Male</td><td style='border: 1px solid #dddddd'>S</td><td style='border: 1px solid #dddddd'>1</td><td style='border: 1px solid #dddddd'>17</td><td style='border: 1px solid #dddddd'>Inactive</td><td style='border: 1px solid #dddddd'>Yes</td><td style='border: 1px solid #dddddd'>The car should have been brought to us instead of us trying to find it in the lot.</td><td style='border: 1px solid #dddddd'>Product: Information</td><td style='border: 1px solid #dddddd'>0</td><td style='border: 1px solid #dddddd'>On-demand pickup location</td><td style='border: 1px solid #dddddd'>2019-01-15 19:30:55.199000+00:00</td></tr><tr><td style='border: 1px solid #dddddd'>3785</td><td style='border: 1px solid #dddddd'>Male</td><td style='border: 1px solid #dddddd'>S</td><td style='border: 1px solid #dddddd'>1</td><td style='border: 1px solid #dddddd'>17</td><td style='border: 1px solid #dddddd'>Inactive</td><td style='border: 1px solid #dddddd'>Yes</td><td style='border: 1px solid #dddddd'>The car should have been brought to us instead of us trying to find it in the lot.</td><td style='border: 1px solid #dddddd'>Product: Information</td><td style='border: 1px solid #dddddd'>0</td><td style='border: 1px solid #dddddd'>On-demand pickup location</td><td style='border: 1px solid #dddddd'>2019-01-15 19:30:55.199000+00:00</td></tr><tr><td style='border: 1px solid #dddddd'>3785</td><td style='border: 1px solid #dddddd'>Male</td><td style='border: 1px solid #dddddd'>S</td><td style='border: 1px solid #dddddd'>1</td><td style='border: 1px solid #dddddd'>17</td><td style='border: 1px solid #dddddd'>Inactive</td><td style='border: 1px solid #dddddd'>Yes</td><td style='border: 1px solid #dddddd'>The car should have been brought to us instead of us trying to find it in the lot.</td><td style='border: 1px solid #dddddd'>Product: Information</td><td style='border: 1px solid #dddddd'>0</td><td style='border: 1px solid #dddddd'>On-demand pickup location</td><td style='border: 1px solid #dddddd'>2019-01-15 19:30:55.199000+00:00</td></tr>\n",
       "            </table>\n",
       "        </body>\n",
       "        </HTML>"
      ],
      "text/plain": [
       "<IPython.core.display.HTML object>"
      ]
     },
     "metadata": {},
     "output_type": "display_data"
    }
   ],
   "source": [
    "subscription.feedback_logging.show_table()"
   ]
  },
  {
   "cell_type": "markdown",
   "metadata": {},
   "source": [
    "Describe table (calulcate basic statistics)."
   ]
  },
  {
   "cell_type": "code",
   "execution_count": 141,
   "metadata": {},
   "outputs": [
    {
     "name": "stdout",
     "output_type": "stream",
     "text": [
      "           ID  Children   Age  Satisfaction\n",
      "count    33.0      33.0  33.0          33.0\n",
      "mean   3785.0       1.0  17.0           0.0\n",
      "std       0.0       0.0   0.0           0.0\n",
      "min    3785.0       1.0  17.0           0.0\n",
      "25%    3785.0       1.0  17.0           0.0\n",
      "50%    3785.0       1.0  17.0           0.0\n",
      "75%    3785.0       1.0  17.0           0.0\n",
      "max    3785.0       1.0  17.0           0.0\n"
     ]
    }
   ],
   "source": [
    "subscription.feedback_logging.describe_table()"
   ]
  },
  {
   "cell_type": "markdown",
   "metadata": {},
   "source": [
    "Get table content."
   ]
  },
  {
   "cell_type": "code",
   "execution_count": 142,
   "metadata": {},
   "outputs": [],
   "source": [
    "feedback_pd = subscription.feedback_logging.get_table_content(format='pandas')"
   ]
  },
  {
   "cell_type": "markdown",
   "metadata": {},
   "source": [
    "### 6.3 Quality metrics table"
   ]
  },
  {
   "cell_type": "code",
   "execution_count": 143,
   "metadata": {},
   "outputs": [
    {
     "data": {
      "text/html": [
       "<HTML>\n",
       "        <body>\n",
       "            <h3>Schema of QualityMetrics</h3>\n",
       "            <table style='border: 1px solid #dddddd; font-family: Courier'>\n",
       "                <th style='border: 1px solid #dddddd'>name</th><th style='border: 1px solid #dddddd'>type</th><th style='border: 1px solid #dddddd'>nullable</th>\n",
       "                <tr><td style='border: 1px solid #dddddd'>ts</td><td style='border: 1px solid #dddddd'>timestamp</td><td style='border: 1px solid #dddddd'>False</td></tr><tr><td style='border: 1px solid #dddddd'>quality</td><td style='border: 1px solid #dddddd'>float</td><td style='border: 1px solid #dddddd'>False</td></tr><tr><td style='border: 1px solid #dddddd'>quality_threshold</td><td style='border: 1px solid #dddddd'>float</td><td style='border: 1px solid #dddddd'>False</td></tr><tr><td style='border: 1px solid #dddddd'>binding_id</td><td style='border: 1px solid #dddddd'>string</td><td style='border: 1px solid #dddddd'>False</td></tr><tr><td style='border: 1px solid #dddddd'>subscription_id</td><td style='border: 1px solid #dddddd'>string</td><td style='border: 1px solid #dddddd'>False</td></tr><tr><td style='border: 1px solid #dddddd'>deployment_id</td><td style='border: 1px solid #dddddd'>string</td><td style='border: 1px solid #dddddd'>True</td></tr><tr><td style='border: 1px solid #dddddd'>process</td><td style='border: 1px solid #dddddd'>string</td><td style='border: 1px solid #dddddd'>False</td></tr><tr><td style='border: 1px solid #dddddd'>asset_revision</td><td style='border: 1px solid #dddddd'>string</td><td style='border: 1px solid #dddddd'>True</td></tr>\n",
       "            </table>\n",
       "        </body>\n",
       "        </HTML>"
      ],
      "text/plain": [
       "<IPython.core.display.HTML object>"
      ]
     },
     "metadata": {},
     "output_type": "display_data"
    }
   ],
   "source": [
    "subscription.quality_monitoring.print_table_schema()"
   ]
  },
  {
   "cell_type": "code",
   "execution_count": 144,
   "metadata": {},
   "outputs": [
    {
     "data": {
      "text/html": [
       "<HTML>\n",
       "        <body>\n",
       "            <h3>QualityMetrics (binding_id=f1f35824-8d9b-4ad7-a14c-6498d5f1e0a3, subscription_id=action)</h3>\n",
       "            <table style='border: 1px solid #dddddd; font-family: Courier'>\n",
       "                <th style='border: 1px solid #dddddd'>ts</th><th style='border: 1px solid #dddddd'>quality</th><th style='border: 1px solid #dddddd'>quality_threshold</th><th style='border: 1px solid #dddddd'>binding_id</th><th style='border: 1px solid #dddddd'>subscription_id</th><th style='border: 1px solid #dddddd'>deployment_id</th><th style='border: 1px solid #dddddd'>process</th><th style='border: 1px solid #dddddd'>asset_revision</th>\n",
       "                <tr><td style='border: 1px solid #dddddd'>2019-01-15 21:22:56.600000+00:00</td><td style='border: 1px solid #dddddd'>1.0</td><td style='border: 1px solid #dddddd'>0.7</td><td style='border: 1px solid #dddddd'>f1f35824-8d9b-4ad7-a14c-6498d5f1e0a3</td><td style='border: 1px solid #dddddd'>action</td><td style='border: 1px solid #dddddd'>action</td><td style='border: 1px solid #dddddd'>Accuracy_evaluation_ffcbe77d-c557-47d9-9b02-ebd76550d6c7</td><td style='border: 1px solid #dddddd'></td></tr>\n",
       "            </table>\n",
       "        </body>\n",
       "        </HTML>"
      ],
      "text/plain": [
       "<IPython.core.display.HTML object>"
      ]
     },
     "metadata": {},
     "output_type": "display_data"
    }
   ],
   "source": [
    "subscription.quality_monitoring.show_table()"
   ]
  },
  {
   "cell_type": "markdown",
   "metadata": {},
   "source": [
    "### 6.4 Performance metrics table"
   ]
  },
  {
   "cell_type": "code",
   "execution_count": 145,
   "metadata": {},
   "outputs": [
    {
     "data": {
      "text/html": [
       "<HTML>\n",
       "        <body>\n",
       "            <h3>Schema of PerformanceMetrics</h3>\n",
       "            <table style='border: 1px solid #dddddd; font-family: Courier'>\n",
       "                <th style='border: 1px solid #dddddd'>name</th><th style='border: 1px solid #dddddd'>type</th><th style='border: 1px solid #dddddd'>nullable</th>\n",
       "                <tr><td style='border: 1px solid #dddddd'>ts</td><td style='border: 1px solid #dddddd'>timestamp</td><td style='border: 1px solid #dddddd'>False</td></tr><tr><td style='border: 1px solid #dddddd'>scoring_time</td><td style='border: 1px solid #dddddd'>float</td><td style='border: 1px solid #dddddd'>False</td></tr><tr><td style='border: 1px solid #dddddd'>scoring_records</td><td style='border: 1px solid #dddddd'>object</td><td style='border: 1px solid #dddddd'>False</td></tr><tr><td style='border: 1px solid #dddddd'>binding_id</td><td style='border: 1px solid #dddddd'>string</td><td style='border: 1px solid #dddddd'>False</td></tr><tr><td style='border: 1px solid #dddddd'>subscription_id</td><td style='border: 1px solid #dddddd'>string</td><td style='border: 1px solid #dddddd'>False</td></tr><tr><td style='border: 1px solid #dddddd'>deployment_id</td><td style='border: 1px solid #dddddd'>string</td><td style='border: 1px solid #dddddd'>True</td></tr><tr><td style='border: 1px solid #dddddd'>process</td><td style='border: 1px solid #dddddd'>string</td><td style='border: 1px solid #dddddd'>False</td></tr><tr><td style='border: 1px solid #dddddd'>asset_revision</td><td style='border: 1px solid #dddddd'>string</td><td style='border: 1px solid #dddddd'>True</td></tr>\n",
       "            </table>\n",
       "        </body>\n",
       "        </HTML>"
      ],
      "text/plain": [
       "<IPython.core.display.HTML object>"
      ]
     },
     "metadata": {},
     "output_type": "display_data"
    }
   ],
   "source": [
    "subscription.performance_monitoring.print_table_schema()"
   ]
  },
  {
   "cell_type": "code",
   "execution_count": 146,
   "metadata": {},
   "outputs": [
    {
     "data": {
      "text/html": [
       "<HTML>\n",
       "        <body>\n",
       "            <h3>PerformanceMetrics (binding_id=f1f35824-8d9b-4ad7-a14c-6498d5f1e0a3, subscription_id=action)</h3>\n",
       "            <table style='border: 1px solid #dddddd; font-family: Courier'>\n",
       "                <th style='border: 1px solid #dddddd'>ts</th><th style='border: 1px solid #dddddd'>scoring_time</th><th style='border: 1px solid #dddddd'>scoring_records</th><th style='border: 1px solid #dddddd'>binding_id</th><th style='border: 1px solid #dddddd'>subscription_id</th><th style='border: 1px solid #dddddd'>deployment_id</th><th style='border: 1px solid #dddddd'>process</th><th style='border: 1px solid #dddddd'>asset_revision</th>\n",
       "                <tr><td style='border: 1px solid #dddddd'>2019-01-15 21:22:26.682446+00:00</td><td style='border: 1px solid #dddddd'>2679.0</td><td style='border: 1px solid #dddddd'>1</td><td style='border: 1px solid #dddddd'>f1f35824-8d9b-4ad7-a14c-6498d5f1e0a3</td><td style='border: 1px solid #dddddd'>action</td><td style='border: 1px solid #dddddd'>action</td><td style='border: 1px solid #dddddd'></td><td style='border: 1px solid #dddddd'></td></tr><tr><td style='border: 1px solid #dddddd'>2019-01-15 21:22:26.682467+00:00</td><td style='border: 1px solid #dddddd'>2679.0</td><td style='border: 1px solid #dddddd'>1</td><td style='border: 1px solid #dddddd'>f1f35824-8d9b-4ad7-a14c-6498d5f1e0a3</td><td style='border: 1px solid #dddddd'>action</td><td style='border: 1px solid #dddddd'>action</td><td style='border: 1px solid #dddddd'></td><td style='border: 1px solid #dddddd'></td></tr><tr><td style='border: 1px solid #dddddd'>2019-01-15 21:22:26.682549+00:00</td><td style='border: 1px solid #dddddd'>2679.0</td><td style='border: 1px solid #dddddd'>1</td><td style='border: 1px solid #dddddd'>f1f35824-8d9b-4ad7-a14c-6498d5f1e0a3</td><td style='border: 1px solid #dddddd'>action</td><td style='border: 1px solid #dddddd'>action</td><td style='border: 1px solid #dddddd'></td><td style='border: 1px solid #dddddd'></td></tr><tr><td style='border: 1px solid #dddddd'>2019-01-15 21:22:26.682564+00:00</td><td style='border: 1px solid #dddddd'>2679.0</td><td style='border: 1px solid #dddddd'>1</td><td style='border: 1px solid #dddddd'>f1f35824-8d9b-4ad7-a14c-6498d5f1e0a3</td><td style='border: 1px solid #dddddd'>action</td><td style='border: 1px solid #dddddd'>action</td><td style='border: 1px solid #dddddd'></td><td style='border: 1px solid #dddddd'></td></tr><tr><td style='border: 1px solid #dddddd'>2019-01-15 21:22:26.682501+00:00</td><td style='border: 1px solid #dddddd'>2679.0</td><td style='border: 1px solid #dddddd'>1</td><td style='border: 1px solid #dddddd'>f1f35824-8d9b-4ad7-a14c-6498d5f1e0a3</td><td style='border: 1px solid #dddddd'>action</td><td style='border: 1px solid #dddddd'>action</td><td style='border: 1px solid #dddddd'></td><td style='border: 1px solid #dddddd'></td></tr><tr><td style='border: 1px solid #dddddd'>2019-01-15 21:22:26.682389+00:00</td><td style='border: 1px solid #dddddd'>2679.0</td><td style='border: 1px solid #dddddd'>1</td><td style='border: 1px solid #dddddd'>f1f35824-8d9b-4ad7-a14c-6498d5f1e0a3</td><td style='border: 1px solid #dddddd'>action</td><td style='border: 1px solid #dddddd'>action</td><td style='border: 1px solid #dddddd'></td><td style='border: 1px solid #dddddd'></td></tr><tr><td style='border: 1px solid #dddddd'>2019-01-15 21:22:26.682533+00:00</td><td style='border: 1px solid #dddddd'>2679.0</td><td style='border: 1px solid #dddddd'>1</td><td style='border: 1px solid #dddddd'>f1f35824-8d9b-4ad7-a14c-6498d5f1e0a3</td><td style='border: 1px solid #dddddd'>action</td><td style='border: 1px solid #dddddd'>action</td><td style='border: 1px solid #dddddd'></td><td style='border: 1px solid #dddddd'></td></tr><tr><td style='border: 1px solid #dddddd'>2019-01-15 21:22:26.682517+00:00</td><td style='border: 1px solid #dddddd'>2679.0</td><td style='border: 1px solid #dddddd'>1</td><td style='border: 1px solid #dddddd'>f1f35824-8d9b-4ad7-a14c-6498d5f1e0a3</td><td style='border: 1px solid #dddddd'>action</td><td style='border: 1px solid #dddddd'>action</td><td style='border: 1px solid #dddddd'></td><td style='border: 1px solid #dddddd'></td></tr><tr><td style='border: 1px solid #dddddd'>2019-01-15 21:22:26.682484+00:00</td><td style='border: 1px solid #dddddd'>2679.0</td><td style='border: 1px solid #dddddd'>1</td><td style='border: 1px solid #dddddd'>f1f35824-8d9b-4ad7-a14c-6498d5f1e0a3</td><td style='border: 1px solid #dddddd'>action</td><td style='border: 1px solid #dddddd'>action</td><td style='border: 1px solid #dddddd'></td><td style='border: 1px solid #dddddd'></td></tr><tr><td style='border: 1px solid #dddddd'>2019-01-15 21:22:26.682581+00:00</td><td style='border: 1px solid #dddddd'>2679.0</td><td style='border: 1px solid #dddddd'>1</td><td style='border: 1px solid #dddddd'>f1f35824-8d9b-4ad7-a14c-6498d5f1e0a3</td><td style='border: 1px solid #dddddd'>action</td><td style='border: 1px solid #dddddd'>action</td><td style='border: 1px solid #dddddd'></td><td style='border: 1px solid #dddddd'></td></tr>\n",
       "            </table>\n",
       "        </body>\n",
       "        </HTML>"
      ],
      "text/plain": [
       "<IPython.core.display.HTML object>"
      ]
     },
     "metadata": {},
     "output_type": "display_data"
    }
   ],
   "source": [
    "subscription.performance_monitoring.show_table()"
   ]
  },
  {
   "cell_type": "markdown",
   "metadata": {},
   "source": [
    "### 6.5 Data Mart measurement facts table"
   ]
  },
  {
   "cell_type": "code",
   "execution_count": 147,
   "metadata": {},
   "outputs": [
    {
     "data": {
      "text/plain": [
       "{'deployment_metrics': [{'asset': {'asset_id': 'action',\n",
       "    'asset_type': 'model',\n",
       "    'created_at': '2016-12-01T10:11:12Z',\n",
       "    'name': 'area and action prediction',\n",
       "    'url': 'http://169.60.16.73:31520/v1/deployments/action/online'},\n",
       "   'deployment': {'created_at': '2016-12-01T10:11:12Z',\n",
       "    'deployment_id': 'action',\n",
       "    'deployment_rn': '',\n",
       "    'deployment_type': 'online',\n",
       "    'name': 'action deployment',\n",
       "    'scoring_endpoint': {'request_headers': {'Content-Type': 'application/json'},\n",
       "     'url': 'http://169.60.16.73:31520/v1/deployments/action/online'},\n",
       "    'url': ''},\n",
       "   'metrics': [{'issues': 0,\n",
       "     'metric_type': 'performance',\n",
       "     'timestamp': '2019-01-15T19:30:20.342121Z',\n",
       "     'value': {'records': 1, 'response_time': 794.0}},\n",
       "    {'issues': 0,\n",
       "     'metric_type': 'performance',\n",
       "     'timestamp': '2019-01-15T19:47:35.886607Z',\n",
       "     'value': {'records': 1, 'response_time': 794.0}},\n",
       "    {'issues': 0,\n",
       "     'metric_type': 'performance',\n",
       "     'timestamp': '2019-01-15T21:22:26.682596Z',\n",
       "     'value': {'records': 1, 'response_time': 2679.0}},\n",
       "    {'issues': 0,\n",
       "     'metric_type': 'quality',\n",
       "     'timestamp': '2019-01-15T21:22:56.600Z',\n",
       "     'value': {'metrics': [{'name': 'weightedTruePositiveRate', 'value': 1.0},\n",
       "       {'name': 'accuracy', 'value': 1.0},\n",
       "       {'name': 'weightedFMeasure', 'value': 1.0},\n",
       "       {'name': 'weightedRecall', 'value': 1.0},\n",
       "       {'name': 'weightedFalsePositiveRate', 'value': None},\n",
       "       {'name': 'weightedPrecision', 'value': 1.0}],\n",
       "      'quality': 1.0,\n",
       "      'threshold': 0.7}}],\n",
       "   'subscription': {'subscription_id': 'action',\n",
       "    'url': '/v1/data_marts/b873054a-9264-48c4-bcfe-c462ac3b8cf8/service_bindings/f1f35824-8d9b-4ad7-a14c-6498d5f1e0a3/subscriptions/action'}}]}"
      ]
     },
     "execution_count": 147,
     "metadata": {},
     "output_type": "execute_result"
    }
   ],
   "source": [
    "client.data_mart.get_deployment_metrics()"
   ]
  },
  {
   "cell_type": "markdown",
   "metadata": {},
   "source": [
    "---"
   ]
  },
  {
   "cell_type": "markdown",
   "metadata": {},
   "source": [
    "### Authors\n",
    "Lukasz Cmielowski, PhD, is an Automation Architect and Data Scientist at IBM with a track record of developing enterprise-level applications that substantially increases clients' ability to turn data into actionable knowledge."
   ]
  }
 ],
 "metadata": {
  "kernelspec": {
   "display_name": "Python 3.5",
   "language": "python",
   "name": "python3"
  },
  "language_info": {
   "codemirror_mode": {
    "name": "ipython",
    "version": 3
   },
   "file_extension": ".py",
   "mimetype": "text/x-python",
   "name": "python",
   "nbconvert_exporter": "python",
   "pygments_lexer": "ipython3",
   "version": "3.5.5"
  }
 },
 "nbformat": 4,
 "nbformat_minor": 1
}
